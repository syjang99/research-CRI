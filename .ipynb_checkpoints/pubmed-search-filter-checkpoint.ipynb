{
 "cells": [
  {
   "cell_type": "markdown",
   "metadata": {},
   "source": [
    "## Setup "
   ]
  },
  {
   "cell_type": "code",
   "execution_count": 2,
   "metadata": {},
   "outputs": [],
   "source": [
    "import pandas as pd\n",
    "import numpy as np"
   ]
  },
  {
   "cell_type": "code",
   "execution_count": 3,
   "metadata": {},
   "outputs": [],
   "source": [
    "import os\n",
    "os.chdir('C:/Users/syjan/Desktop/internship/pubmed-task')"
   ]
  },
  {
   "cell_type": "code",
   "execution_count": 6,
   "metadata": {
    "scrolled": false
   },
   "outputs": [
    {
     "data": {
      "text/plain": [
       "Index(['NUM', 'PMID', 'Title', 'Unnamed: 3', 'Authors', 'Citation',\n",
       "       'First Author', 'Journal/Book', 'Publication Year', 'Create Date',\n",
       "       'PMCID', 'NIHMS ID', 'DOI', 'J', 'S', 'C', 'J.1', 'S.1', 'C.1', 'J.2',\n",
       "       'S.2', 'C.2'],\n",
       "      dtype='object')"
      ]
     },
     "execution_count": 6,
     "metadata": {},
     "output_type": "execute_result"
    }
   ],
   "source": [
    "df = pd.read_csv('pubmed_task.csv', header=1, encoding='euc-kr')\n",
    "df.columns"
   ]
  },
  {
   "cell_type": "code",
   "execution_count": 77,
   "metadata": {
    "scrolled": true
   },
   "outputs": [
    {
     "data": {
      "text/plain": [
       "Index(['NUM', 'PMID', 'Title', 'S', 'Authors', 'Citation', 'First Author',\n",
       "       'Journal/Book', 'Publication Year', 'Create Date', 'PMCID', 'NIHMS ID',\n",
       "       'DOI'],\n",
       "      dtype='object')"
      ]
     },
     "execution_count": 77,
     "metadata": {},
     "output_type": "execute_result"
    }
   ],
   "source": [
    "df2 = pd.read_excel('서윤_EXCLUSION(S_STUDENTS)_220714_test.xlsx')\n",
    "df2.columns"
   ]
  },
  {
   "cell_type": "code",
   "execution_count": 78,
   "metadata": {
    "scrolled": true
   },
   "outputs": [
    {
     "data": {
      "text/html": [
       "<div>\n",
       "<style scoped>\n",
       "    .dataframe tbody tr th:only-of-type {\n",
       "        vertical-align: middle;\n",
       "    }\n",
       "\n",
       "    .dataframe tbody tr th {\n",
       "        vertical-align: top;\n",
       "    }\n",
       "\n",
       "    .dataframe thead th {\n",
       "        text-align: right;\n",
       "    }\n",
       "</style>\n",
       "<table border=\"1\" class=\"dataframe\">\n",
       "  <thead>\n",
       "    <tr style=\"text-align: right;\">\n",
       "      <th></th>\n",
       "      <th>NUM</th>\n",
       "      <th>PMID</th>\n",
       "      <th>Title</th>\n",
       "      <th>S</th>\n",
       "      <th>Authors</th>\n",
       "      <th>Citation</th>\n",
       "      <th>First Author</th>\n",
       "      <th>Journal/Book</th>\n",
       "      <th>Publication Year</th>\n",
       "      <th>Create Date</th>\n",
       "      <th>PMCID</th>\n",
       "      <th>NIHMS ID</th>\n",
       "      <th>DOI</th>\n",
       "    </tr>\n",
       "  </thead>\n",
       "  <tbody>\n",
       "    <tr>\n",
       "      <th>0</th>\n",
       "      <td>2401</td>\n",
       "      <td>25978574</td>\n",
       "      <td>Sustained Benefit of Community-based Tuberculo...</td>\n",
       "      <td>NaN</td>\n",
       "      <td>Accinelli RA, Romero LR, García RF, Sánchez R.</td>\n",
       "      <td>Am J Respir Crit Care Med. 2015 May 15;191(10)...</td>\n",
       "      <td>Accinelli RA</td>\n",
       "      <td>Am J Respir Crit Care Med</td>\n",
       "      <td>2015</td>\n",
       "      <td>2015-05-16</td>\n",
       "      <td>NaN</td>\n",
       "      <td>NaN</td>\n",
       "      <td>10.1164/rccm.201412-2173LE</td>\n",
       "    </tr>\n",
       "    <tr>\n",
       "      <th>1</th>\n",
       "      <td>2402</td>\n",
       "      <td>31181879</td>\n",
       "      <td>Diagnostic utility of PET/CT in a patient with...</td>\n",
       "      <td>NaN</td>\n",
       "      <td>Tetikkurt C, Inci N, Yanardag H.</td>\n",
       "      <td>Monaldi Arch Chest Dis. 2019 Jun 11;89(2). doi...</td>\n",
       "      <td>Tetikkurt C</td>\n",
       "      <td>Monaldi Arch Chest Dis</td>\n",
       "      <td>2019</td>\n",
       "      <td>2019-06-12</td>\n",
       "      <td>NaN</td>\n",
       "      <td>NaN</td>\n",
       "      <td>10.4081/monaldi.2019.1080</td>\n",
       "    </tr>\n",
       "  </tbody>\n",
       "</table>\n",
       "</div>"
      ],
      "text/plain": [
       "    NUM      PMID                                              Title   S  \\\n",
       "0  2401  25978574  Sustained Benefit of Community-based Tuberculo... NaN   \n",
       "1  2402  31181879  Diagnostic utility of PET/CT in a patient with... NaN   \n",
       "\n",
       "                                          Authors  \\\n",
       "0  Accinelli RA, Romero LR, García RF, Sánchez R.   \n",
       "1                Tetikkurt C, Inci N, Yanardag H.   \n",
       "\n",
       "                                            Citation  First Author  \\\n",
       "0  Am J Respir Crit Care Med. 2015 May 15;191(10)...  Accinelli RA   \n",
       "1  Monaldi Arch Chest Dis. 2019 Jun 11;89(2). doi...   Tetikkurt C   \n",
       "\n",
       "                Journal/Book  Publication Year Create Date PMCID NIHMS ID  \\\n",
       "0  Am J Respir Crit Care Med              2015  2015-05-16   NaN      NaN   \n",
       "1     Monaldi Arch Chest Dis              2019  2019-06-12   NaN      NaN   \n",
       "\n",
       "                          DOI  \n",
       "0  10.1164/rccm.201412-2173LE  \n",
       "1   10.4081/monaldi.2019.1080  "
      ]
     },
     "execution_count": 78,
     "metadata": {},
     "output_type": "execute_result"
    }
   ],
   "source": [
    "df2.head(2)"
   ]
  },
  {
   "cell_type": "markdown",
   "metadata": {},
   "source": [
    "## Filter conditions and assign appropriate numbers\n"
   ]
  },
  {
   "cell_type": "code",
   "execution_count": 79,
   "metadata": {
    "scrolled": false
   },
   "outputs": [],
   "source": [
    "def filter_pubmed(df):\n",
    "    df1 = df.copy()\n",
    "\n",
    "    #Condition 1: Articles published before 1970\n",
    "    df1.loc[df1['Publication Year'] < 1970, 'S'] = 1\n",
    "    print('Condition 1: excluded ', df1.query(\"S==1\").shape[0], 'rows')\n",
    "\n",
    "    #Condition 2: Not an original article \n",
    "    unoriginal = '|'.join(['comment','letter','editorial','case report','image','video','review','meta-analysis',\n",
    "                           'meta analysis','rare case','rare association','one case of', 'novel case', 'report of a case',\n",
    "                          'report of case', 'unusual case','two cases of', 'rare complication', 'case illustration', 'report of'])\n",
    "    df1.loc[df1.Title.str.contains(unoriginal, case=False) & df1.S.isnull(), 'S'] = 2\n",
    "    df1.loc[df1.Title.str.contains(\"A case of\", case=True) & df1.S.isnull(), 'S'] = 2\n",
    "    print('Condition 2: excluded ', df1.query(\"S==2\").shape[0], 'rows')\n",
    "\n",
    "\n",
    "    #Condition 4: Studies on TB vaccine \n",
    "    vaccine_related = 'BCG|TB vaccination|TB vaccine|vaccinated'\n",
    "    df1.loc[df1.Title.str.contains(vaccine_related, case=False) & df1.S.isnull(), 'S'] = 4\n",
    "    print('Condition 4: excluded ', df1.query(\"S==4\").shape[0], 'rows')\n",
    "\n",
    "    #Condition 5: Cost analyses\n",
    "    cost_related ='cost analysis|cost analyses|economic analysis|economic analyses|cost-effectiveness'\n",
    "    df1.loc[df1.Title.str.contains(\"Cost \", case=True) & df1.S.isnull(), 'S'] = 5\n",
    "    df1.loc[df1.Title.str.contains(cost_related, case=False) & df1.S.isnull(), 'S'] = 5\n",
    "    print('Condition 5: excluded ', df1.query(\"S==5\").shape[0], 'rows')\n",
    "\n",
    "    #Condition 6: Not human\n",
    "    animals = \"bovine|cattle|animal tuberculosis|animal TB|raccoon|primates|horses|dogs|elk|rhesus macaque|pig\"\n",
    "    df1.loc[df1.Title.str.contains(animals, case=False) & df1.S.isnull(), 'S'] = 6\n",
    "    print('Condition 6: excluded ', df1.query(\"S==6\").shape[0], 'rows')\n",
    "    \n",
    "    #Condition 3: Not pulmonary TB \n",
    "    lung_related = 'pulmonary|chest|lung|transplant'\n",
    "    other_organs = '|'.join(['meningitis', 'TBM','colon', 'bone', 'musculoskeletal', 'lymph tuberculosis',\n",
    "                             'lymph node tuberculosis','lymph node TB','abdomen', 'ocular', 'liver', 'spleen', 'abdominal', \n",
    "                             'intestine', 'bladder', 'urogenital', 'renal', 'spinal', 'pelvis', 'tongue', 'urinary', 'Osteoarticular'])\n",
    "    df1.loc[((-df1.Title.str.contains(lung_related, case=False)& \n",
    "       df1.Title.str.contains(other_organs, case=False)) | -df1.Title.str.contains('tuberculosis|TB', case=False))& \n",
    "       df1.S.isnull() , 'S'] = 3\n",
    "    print('Condition 3: excluded ', df1.query(\"S==3\").shape[0], 'rows')\n",
    "    \n",
    "    return df1"
   ]
  },
  {
   "cell_type": "code",
   "execution_count": 80,
   "metadata": {
    "scrolled": true
   },
   "outputs": [
    {
     "name": "stdout",
     "output_type": "stream",
     "text": [
      "Condition 1: excluded  53 rows\n",
      "Condition 2: excluded  283 rows\n",
      "Condition 4: excluded  9 rows\n",
      "Condition 5: excluded  5 rows\n",
      "Condition 6: excluded  2 rows\n",
      "Condition 3: excluded  627 rows\n"
     ]
    },
    {
     "data": {
      "text/html": [
       "<div>\n",
       "<style scoped>\n",
       "    .dataframe tbody tr th:only-of-type {\n",
       "        vertical-align: middle;\n",
       "    }\n",
       "\n",
       "    .dataframe tbody tr th {\n",
       "        vertical-align: top;\n",
       "    }\n",
       "\n",
       "    .dataframe thead th {\n",
       "        text-align: right;\n",
       "    }\n",
       "</style>\n",
       "<table border=\"1\" class=\"dataframe\">\n",
       "  <thead>\n",
       "    <tr style=\"text-align: right;\">\n",
       "      <th></th>\n",
       "      <th>Title</th>\n",
       "      <th>Publication Year</th>\n",
       "      <th>S</th>\n",
       "    </tr>\n",
       "  </thead>\n",
       "  <tbody>\n",
       "    <tr>\n",
       "      <th>0</th>\n",
       "      <td>Sustained Benefit of Community-based Tuberculo...</td>\n",
       "      <td>2015</td>\n",
       "      <td>NaN</td>\n",
       "    </tr>\n",
       "    <tr>\n",
       "      <th>1</th>\n",
       "      <td>Diagnostic utility of PET/CT in a patient with...</td>\n",
       "      <td>2019</td>\n",
       "      <td>NaN</td>\n",
       "    </tr>\n",
       "    <tr>\n",
       "      <th>2</th>\n",
       "      <td>Management of pulmonary aspergilloma in the pr...</td>\n",
       "      <td>1984</td>\n",
       "      <td>NaN</td>\n",
       "    </tr>\n",
       "    <tr>\n",
       "      <th>3</th>\n",
       "      <td>Sequential strategy for the LTBI screening of ...</td>\n",
       "      <td>2018</td>\n",
       "      <td>NaN</td>\n",
       "    </tr>\n",
       "    <tr>\n",
       "      <th>4</th>\n",
       "      <td>[Renoureteral tuberculosis in a transplanted k...</td>\n",
       "      <td>2008</td>\n",
       "      <td>3.0</td>\n",
       "    </tr>\n",
       "  </tbody>\n",
       "</table>\n",
       "</div>"
      ],
      "text/plain": [
       "                                               Title  Publication Year    S\n",
       "0  Sustained Benefit of Community-based Tuberculo...              2015  NaN\n",
       "1  Diagnostic utility of PET/CT in a patient with...              2019  NaN\n",
       "2  Management of pulmonary aspergilloma in the pr...              1984  NaN\n",
       "3  Sequential strategy for the LTBI screening of ...              2018  NaN\n",
       "4  [Renoureteral tuberculosis in a transplanted k...              2008  3.0"
      ]
     },
     "execution_count": 80,
     "metadata": {},
     "output_type": "execute_result"
    }
   ],
   "source": [
    "new_df = filter_pubmed(df2)\n",
    "new_df[['Title', 'Publication Year', 'S']].head()"
   ]
  },
  {
   "cell_type": "code",
   "execution_count": 81,
   "metadata": {
    "scrolled": true
   },
   "outputs": [
    {
     "name": "stdout",
     "output_type": "stream",
     "text": [
      "In total, 979 rows were deleted out of 1679\n"
     ]
    }
   ],
   "source": [
    "print(\"In total,\",new_df.shape[0] - new_df[new_df.S.isnull()].shape[0],\"rows were deleted out of\", df2.shape[0])"
   ]
  },
  {
   "cell_type": "code",
   "execution_count": 82,
   "metadata": {
    "scrolled": true
   },
   "outputs": [
    {
     "data": {
      "text/html": [
       "<div>\n",
       "<style scoped>\n",
       "    .dataframe tbody tr th:only-of-type {\n",
       "        vertical-align: middle;\n",
       "    }\n",
       "\n",
       "    .dataframe tbody tr th {\n",
       "        vertical-align: top;\n",
       "    }\n",
       "\n",
       "    .dataframe thead th {\n",
       "        text-align: right;\n",
       "    }\n",
       "</style>\n",
       "<table border=\"1\" class=\"dataframe\">\n",
       "  <thead>\n",
       "    <tr style=\"text-align: right;\">\n",
       "      <th></th>\n",
       "      <th>criteria</th>\n",
       "      <th>n</th>\n",
       "    </tr>\n",
       "  </thead>\n",
       "  <tbody>\n",
       "    <tr>\n",
       "      <th>3</th>\n",
       "      <td>1</td>\n",
       "      <td>53</td>\n",
       "    </tr>\n",
       "    <tr>\n",
       "      <th>2</th>\n",
       "      <td>2</td>\n",
       "      <td>283</td>\n",
       "    </tr>\n",
       "    <tr>\n",
       "      <th>1</th>\n",
       "      <td>3</td>\n",
       "      <td>627</td>\n",
       "    </tr>\n",
       "    <tr>\n",
       "      <th>4</th>\n",
       "      <td>4</td>\n",
       "      <td>9</td>\n",
       "    </tr>\n",
       "    <tr>\n",
       "      <th>5</th>\n",
       "      <td>5</td>\n",
       "      <td>5</td>\n",
       "    </tr>\n",
       "    <tr>\n",
       "      <th>6</th>\n",
       "      <td>6</td>\n",
       "      <td>2</td>\n",
       "    </tr>\n",
       "    <tr>\n",
       "      <th>0</th>\n",
       "      <td>included</td>\n",
       "      <td>700</td>\n",
       "    </tr>\n",
       "  </tbody>\n",
       "</table>\n",
       "</div>"
      ],
      "text/plain": [
       "   criteria    n\n",
       "3         1   53\n",
       "2         2  283\n",
       "1         3  627\n",
       "4         4    9\n",
       "5         5    5\n",
       "6         6    2\n",
       "0  included  700"
      ]
     },
     "execution_count": 82,
     "metadata": {},
     "output_type": "execute_result"
    }
   ],
   "source": [
    "#Check numbers\n",
    "new_df.S.value_counts(dropna=False).reset_index(name='n').sort_values(by='index').rename(columns={'index':'criteria'}).fillna('included')"
   ]
  },
  {
   "cell_type": "markdown",
   "metadata": {},
   "source": [
    "## Check with examples"
   ]
  },
  {
   "cell_type": "code",
   "execution_count": 83,
   "metadata": {
    "scrolled": false
   },
   "outputs": [
    {
     "data": {
      "text/html": [
       "<div>\n",
       "<style scoped>\n",
       "    .dataframe tbody tr th:only-of-type {\n",
       "        vertical-align: middle;\n",
       "    }\n",
       "\n",
       "    .dataframe tbody tr th {\n",
       "        vertical-align: top;\n",
       "    }\n",
       "\n",
       "    .dataframe thead th {\n",
       "        text-align: right;\n",
       "    }\n",
       "</style>\n",
       "<table border=\"1\" class=\"dataframe\">\n",
       "  <thead>\n",
       "    <tr style=\"text-align: right;\">\n",
       "      <th></th>\n",
       "      <th>Title</th>\n",
       "      <th>Publication Year</th>\n",
       "      <th>S</th>\n",
       "    </tr>\n",
       "  </thead>\n",
       "  <tbody>\n",
       "    <tr>\n",
       "      <th>11</th>\n",
       "      <td>[Treatment of postoperative bronchial fistula]</td>\n",
       "      <td>1969</td>\n",
       "      <td>1.0</td>\n",
       "    </tr>\n",
       "    <tr>\n",
       "      <th>17</th>\n",
       "      <td>[Results on the use of ethambutol in the treat...</td>\n",
       "      <td>1968</td>\n",
       "      <td>1.0</td>\n",
       "    </tr>\n",
       "    <tr>\n",
       "      <th>26</th>\n",
       "      <td>[Radiologic opacity typical of a spontaneously...</td>\n",
       "      <td>1954</td>\n",
       "      <td>1.0</td>\n",
       "    </tr>\n",
       "    <tr>\n",
       "      <th>42</th>\n",
       "      <td>[CONSERVATIVE AND SURGICAL TREATMENT OF PATIEN...</td>\n",
       "      <td>1963</td>\n",
       "      <td>1.0</td>\n",
       "    </tr>\n",
       "    <tr>\n",
       "      <th>58</th>\n",
       "      <td>[Evaluation of initial combined chemotherapy w...</td>\n",
       "      <td>1969</td>\n",
       "      <td>1.0</td>\n",
       "    </tr>\n",
       "  </tbody>\n",
       "</table>\n",
       "</div>"
      ],
      "text/plain": [
       "                                                Title  Publication Year    S\n",
       "11     [Treatment of postoperative bronchial fistula]              1969  1.0\n",
       "17  [Results on the use of ethambutol in the treat...              1968  1.0\n",
       "26  [Radiologic opacity typical of a spontaneously...              1954  1.0\n",
       "42  [CONSERVATIVE AND SURGICAL TREATMENT OF PATIEN...              1963  1.0\n",
       "58  [Evaluation of initial combined chemotherapy w...              1969  1.0"
      ]
     },
     "execution_count": 83,
     "metadata": {},
     "output_type": "execute_result"
    }
   ],
   "source": [
    "# Condition 1 example\n",
    "new_df[['Title', 'Publication Year', 'S']].query(\"S==1\").head(5)"
   ]
  },
  {
   "cell_type": "code",
   "execution_count": 84,
   "metadata": {
    "scrolled": true
   },
   "outputs": [
    {
     "data": {
      "text/plain": [
       "['A rare complication of pig-tail catheter insertion',\n",
       " 'Tuberculoid granulomatous lesion of the pharynx--review of the literature',\n",
       " 'Embolization for hemoptysis: a six -year review',\n",
       " '[Two cases of tuberculosis after transplantation of the kidney]',\n",
       " 'Tuberculosis-Associated Chylothorax: Case Report and Systematic Review of the Literature']"
      ]
     },
     "execution_count": 84,
     "metadata": {},
     "output_type": "execute_result"
    }
   ],
   "source": [
    "# Condition 2 example\n",
    "new_df.query(\"S==2\").Title.tolist()[:5]"
   ]
  },
  {
   "cell_type": "code",
   "execution_count": 85,
   "metadata": {
    "scrolled": false
   },
   "outputs": [
    {
     "data": {
      "text/plain": [
       "['[Renoureteral tuberculosis in a transplanted kidney]',\n",
       " 'Intravascular large B-cell lymphoma confirmed by lung biopsy',\n",
       " '[Problems in the diagnosis and therapy of lymph node tuberculosis in HIV-negative patients]',\n",
       " 'Resected lung after an abbreviated rifampin regimen',\n",
       " 'Pulmonary mycobacterial infections due to Mycobacterium intracellulare-avium complex. Clinical features and course in 100 consecutive cases']"
      ]
     },
     "execution_count": 85,
     "metadata": {},
     "output_type": "execute_result"
    }
   ],
   "source": [
    "# Condition 3 example\n",
    "new_df.query(\"S==3\").Title.tolist()[:5]"
   ]
  },
  {
   "cell_type": "code",
   "execution_count": 86,
   "metadata": {},
   "outputs": [
    {
     "data": {
      "text/plain": [
       "[\"Child's tuberculous lymphadenitis with fistula evoked by the BCG stem\",\n",
       " 'Utility of PCR assays for rapid diagnosis of BCG infection in children',\n",
       " 'Relation between BCG vaccine scar and an interferon-gamma release assay in immigrant children with \"positive\" tuberculin skin test (≥10\\xa0mm)',\n",
       " '[BCG osteitis in Switzerland. A report of 6 cases]',\n",
       " 'Is BCG vaccine innocent?']"
      ]
     },
     "execution_count": 86,
     "metadata": {},
     "output_type": "execute_result"
    }
   ],
   "source": [
    "# Condition 4 example\n",
    "new_df.query(\"S==4\").Title.tolist()[:5]"
   ]
  },
  {
   "cell_type": "code",
   "execution_count": 87,
   "metadata": {
    "scrolled": true
   },
   "outputs": [
    {
     "data": {
      "text/plain": [
       "['Cost-effectiveness of tuberculosis control strategies among immigrants and refugees',\n",
       " 'Cost-effectiveness analysis of common tuberculosis screening laboratory tests for hemodialysis patients: An analysis from tropical endemic country, Thailand',\n",
       " 'Cost effectiveness of DOTS and non-DOTS strategies for smear-positive pulmonary tuberculosis in Beijing',\n",
       " \"Cost-effectiveness of the Three I's for HIV/TB and ART to prevent TB among people living with HIV\",\n",
       " 'Cost-effectiveness of interferon-gamma release assay for systematic tuberculosis screening of healthcare workers in low-incidence countries']"
      ]
     },
     "execution_count": 87,
     "metadata": {},
     "output_type": "execute_result"
    }
   ],
   "source": [
    "# Condition 5 example\n",
    "new_df.query(\"S==5\").Title.tolist()[:5]"
   ]
  },
  {
   "cell_type": "code",
   "execution_count": 89,
   "metadata": {
    "scrolled": false
   },
   "outputs": [
    {
     "data": {
      "text/plain": [
       "['Human bovine tuberculosis - remains in the differential',\n",
       " 'Roast pig and scientific discovery. Part I']"
      ]
     },
     "execution_count": 89,
     "metadata": {},
     "output_type": "execute_result"
    }
   ],
   "source": [
    "# Condition 6 example\n",
    "new_df.query(\"S==6\").Title.tolist()"
   ]
  },
  {
   "cell_type": "code",
   "execution_count": 90,
   "metadata": {},
   "outputs": [],
   "source": [
    "#write as excel\n",
    "new_df.to_excel('서윤_EXCLUSION(S_STUDENTS)_220714_test.xlsx',index=False)"
   ]
  }
 ],
 "metadata": {
  "kernelspec": {
   "display_name": "Python 3",
   "language": "python",
   "name": "python3"
  },
  "language_info": {
   "codemirror_mode": {
    "name": "ipython",
    "version": 3
   },
   "file_extension": ".py",
   "mimetype": "text/x-python",
   "name": "python",
   "nbconvert_exporter": "python",
   "pygments_lexer": "ipython3",
   "version": "3.8.5"
  }
 },
 "nbformat": 4,
 "nbformat_minor": 4
}
