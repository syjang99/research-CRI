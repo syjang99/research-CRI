{
 "cells": [
  {
   "cell_type": "markdown",
   "metadata": {},
   "source": [
    "## Setup "
   ]
  },
  {
   "cell_type": "code",
   "execution_count": 26,
   "metadata": {},
   "outputs": [],
   "source": [
    "import pandas as pd\n",
    "import numpy as np"
   ]
  },
  {
   "cell_type": "code",
   "execution_count": 27,
   "metadata": {},
   "outputs": [],
   "source": [
    "import os\n",
    "os.chdir('C:/Users/syjan/Desktop/암연구소 인턴')"
   ]
  },
  {
   "cell_type": "code",
   "execution_count": 129,
   "metadata": {
    "scrolled": true
   },
   "outputs": [
    {
     "data": {
      "text/plain": [
       "Index(['NUM', 'PMID', 'Title', 'Unnamed: 3', 'Authors', 'Citation',\n",
       "       'First Author', 'Journal/Book', 'Publication Year', 'Create Date',\n",
       "       'PMCID', 'NIHMS ID', 'DOI', 'J', 'S', 'C', 'J.1', 'S.1', 'C.1', 'J.2',\n",
       "       'S.2', 'C.2'],\n",
       "      dtype='object')"
      ]
     },
     "execution_count": 129,
     "metadata": {},
     "output_type": "execute_result"
    }
   ],
   "source": [
    "df = pd.read_csv('pubmed_task.csv', header=1, encoding='euc-kr')\n",
    "df.columns"
   ]
  },
  {
   "cell_type": "markdown",
   "metadata": {},
   "source": [
    "## Filter conditions and assign appropriate numbers\n"
   ]
  },
  {
   "cell_type": "code",
   "execution_count": 134,
   "metadata": {
    "scrolled": false
   },
   "outputs": [],
   "source": [
    "def filter_pubmed(df):\n",
    "    df1 = df.copy()\n",
    "    \n",
    "    df1.S = np.nan\n",
    "    #Condition 1: Articles published before 1970\n",
    "    df1.loc[df1['Publication Year'] < 1970, 'S'] = 1\n",
    "    print('Condition 1: excluded ', df1.query(\"S==1\").shape[0], 'rows')\n",
    "\n",
    "    #Condition 2: Not an original article \n",
    "    unoriginal = 'comment|letter|editorial|case report|image|video|review|meta-analysis|meta analysis|rare case|rare association|one case of'\n",
    "    df1.loc[df1.Title.str.contains(unoriginal, case=False) & df1.S.isnull(), 'S'] = 2\n",
    "    df1.loc[df1.Title.str.contains(\"A case of\", case=True) & df1.S.isnull(), 'S'] = 2\n",
    "    print('Condition 2: excluded ', df1.query(\"S==2\").shape[0], 'rows')\n",
    "\n",
    "    #Condition 3: Not pulmonary TB \n",
    "    lung_related = 'pulmonary|chest|lung'\n",
    "    other_organs = '|'.join(['meningitis', 'TBM','colon', 'kidney', 'bone', 'musculoskeletal', 'lymph', 'abdomen', 'ocular', \n",
    "                'liver', 'spleen', 'abdominal', 'intestine', 'kidney', 'bladder', 'urogenital', 'renal','tuberculoma'])\n",
    "    df1.loc[-df1.Title.str.contains(lung_related, case=False)& \n",
    "       df1.Title.str.contains(other_organs, case=False) & \n",
    "       df1.S.isnull() , 'S'] = 3\n",
    "    print('Condition 3: excluded ', df1.query(\"S==3\").shape[0], 'rows')\n",
    "\n",
    "    #Condition 4: Studies on TB vaccine \n",
    "    vaccine_related = 'BCG|TB vaccination|TB vaccine'\n",
    "    df1.loc[df1.Title.str.contains(vaccine_related, case=False) & df1.S.isnull(), 'S'] = 4\n",
    "    print('Condition 4: excluded ', df1.query(\"S==4\").shape[0], 'rows')\n",
    "\n",
    "    #Condition 5: Cost analyses\n",
    "    cost_related ='performance yield|cost analysis|cost analyses|economic analysis|economic analyses|cost-effectiveness'\n",
    "    df1.loc[df1.Title.str.contains(\"Cost \", case=True) & df1.S.isnull(), 'S'] = 2\n",
    "    df1.loc[df1.Title.str.contains(cost_related, case=False) & df1.S.isnull(), 'S'] = 5\n",
    "    print('Condition 5: excluded ', df1.query(\"S==5\").shape[0], 'rows')\n",
    "\n",
    "    #Condition 6: Not human\n",
    "    animals = \"bovine|cattle|animal tuberculosis|animal TB|raccoon|primates|horses|dogs|elk|rhesus macaque\"\n",
    "    df1.loc[df1.Title.str.contains(animals, case=False) & df1.S.isnull(), 'S'] = 6\n",
    "    print('Condition 6: excluded ', df1.query(\"S==6\").shape[0], 'rows')\n",
    "    \n",
    "    return df1"
   ]
  },
  {
   "cell_type": "code",
   "execution_count": 135,
   "metadata": {
    "scrolled": true
   },
   "outputs": [
    {
     "name": "stdout",
     "output_type": "stream",
     "text": [
      "Condition 1: excluded  497 rows\n",
      "Condition 2: excluded  870 rows\n",
      "Condition 3: excluded  695 rows\n",
      "Condition 4: excluded  39 rows\n",
      "Condition 5: excluded  19 rows\n",
      "Condition 6: excluded  4 rows\n"
     ]
    },
    {
     "data": {
      "text/html": [
       "<div>\n",
       "<style scoped>\n",
       "    .dataframe tbody tr th:only-of-type {\n",
       "        vertical-align: middle;\n",
       "    }\n",
       "\n",
       "    .dataframe tbody tr th {\n",
       "        vertical-align: top;\n",
       "    }\n",
       "\n",
       "    .dataframe thead th {\n",
       "        text-align: right;\n",
       "    }\n",
       "</style>\n",
       "<table border=\"1\" class=\"dataframe\">\n",
       "  <thead>\n",
       "    <tr style=\"text-align: right;\">\n",
       "      <th></th>\n",
       "      <th>Title</th>\n",
       "      <th>Publication Year</th>\n",
       "      <th>S</th>\n",
       "    </tr>\n",
       "  </thead>\n",
       "  <tbody>\n",
       "    <tr>\n",
       "      <th>0</th>\n",
       "      <td>Four-Month Rifapentine Regimens with or withou...</td>\n",
       "      <td>2021</td>\n",
       "      <td>NaN</td>\n",
       "    </tr>\n",
       "    <tr>\n",
       "      <th>1</th>\n",
       "      <td>Pulmonary Tuberculosis: Role of Radiology in D...</td>\n",
       "      <td>2017</td>\n",
       "      <td>NaN</td>\n",
       "    </tr>\n",
       "    <tr>\n",
       "      <th>2</th>\n",
       "      <td>Endobronchial tuberculosis</td>\n",
       "      <td>2004</td>\n",
       "      <td>NaN</td>\n",
       "    </tr>\n",
       "    <tr>\n",
       "      <th>3</th>\n",
       "      <td>Chest ultrasound compared to chest X-ray for p...</td>\n",
       "      <td>2019</td>\n",
       "      <td>NaN</td>\n",
       "    </tr>\n",
       "    <tr>\n",
       "      <th>4</th>\n",
       "      <td>Endobronchial tuberculosis: an overview</td>\n",
       "      <td>2011</td>\n",
       "      <td>NaN</td>\n",
       "    </tr>\n",
       "  </tbody>\n",
       "</table>\n",
       "</div>"
      ],
      "text/plain": [
       "                                               Title  Publication Year   S\n",
       "0  Four-Month Rifapentine Regimens with or withou...              2021 NaN\n",
       "1  Pulmonary Tuberculosis: Role of Radiology in D...              2017 NaN\n",
       "2                         Endobronchial tuberculosis              2004 NaN\n",
       "3  Chest ultrasound compared to chest X-ray for p...              2019 NaN\n",
       "4            Endobronchial tuberculosis: an overview              2011 NaN"
      ]
     },
     "execution_count": 135,
     "metadata": {},
     "output_type": "execute_result"
    }
   ],
   "source": [
    "new_df = filter_pubmed(df)\n",
    "new_df[['Title', 'Publication Year', 'S']].head()"
   ]
  },
  {
   "cell_type": "code",
   "execution_count": 136,
   "metadata": {
    "scrolled": true
   },
   "outputs": [
    {
     "name": "stdout",
     "output_type": "stream",
     "text": [
      "In total, 2130 rows were deleted out of 7437\n"
     ]
    }
   ],
   "source": [
    "print(\"In total,\",new_df.shape[0] - new_df[new_df.S.isnull()].shape[0],\"rows were deleted out of\", df.shape[0])"
   ]
  },
  {
   "cell_type": "code",
   "execution_count": 137,
   "metadata": {
    "scrolled": true
   },
   "outputs": [
    {
     "data": {
      "text/html": [
       "<div>\n",
       "<style scoped>\n",
       "    .dataframe tbody tr th:only-of-type {\n",
       "        vertical-align: middle;\n",
       "    }\n",
       "\n",
       "    .dataframe tbody tr th {\n",
       "        vertical-align: top;\n",
       "    }\n",
       "\n",
       "    .dataframe thead th {\n",
       "        text-align: right;\n",
       "    }\n",
       "</style>\n",
       "<table border=\"1\" class=\"dataframe\">\n",
       "  <thead>\n",
       "    <tr style=\"text-align: right;\">\n",
       "      <th></th>\n",
       "      <th>criteria</th>\n",
       "      <th>n</th>\n",
       "    </tr>\n",
       "  </thead>\n",
       "  <tbody>\n",
       "    <tr>\n",
       "      <th>3</th>\n",
       "      <td>1</td>\n",
       "      <td>497</td>\n",
       "    </tr>\n",
       "    <tr>\n",
       "      <th>1</th>\n",
       "      <td>2</td>\n",
       "      <td>876</td>\n",
       "    </tr>\n",
       "    <tr>\n",
       "      <th>2</th>\n",
       "      <td>3</td>\n",
       "      <td>695</td>\n",
       "    </tr>\n",
       "    <tr>\n",
       "      <th>4</th>\n",
       "      <td>4</td>\n",
       "      <td>39</td>\n",
       "    </tr>\n",
       "    <tr>\n",
       "      <th>5</th>\n",
       "      <td>5</td>\n",
       "      <td>19</td>\n",
       "    </tr>\n",
       "    <tr>\n",
       "      <th>6</th>\n",
       "      <td>6</td>\n",
       "      <td>4</td>\n",
       "    </tr>\n",
       "    <tr>\n",
       "      <th>0</th>\n",
       "      <td>included</td>\n",
       "      <td>5307</td>\n",
       "    </tr>\n",
       "  </tbody>\n",
       "</table>\n",
       "</div>"
      ],
      "text/plain": [
       "   criteria     n\n",
       "3         1   497\n",
       "1         2   876\n",
       "2         3   695\n",
       "4         4    39\n",
       "5         5    19\n",
       "6         6     4\n",
       "0  included  5307"
      ]
     },
     "execution_count": 137,
     "metadata": {},
     "output_type": "execute_result"
    }
   ],
   "source": [
    "#Check numbers\n",
    "new_df.S.value_counts(dropna=False).reset_index(name='n').sort_values(by='index').rename(columns={'index':'criteria'}).fillna('included')"
   ]
  },
  {
   "cell_type": "markdown",
   "metadata": {},
   "source": [
    "## Check with examples"
   ]
  },
  {
   "cell_type": "code",
   "execution_count": 138,
   "metadata": {
    "scrolled": false
   },
   "outputs": [
    {
     "data": {
      "text/html": [
       "<div>\n",
       "<style scoped>\n",
       "    .dataframe tbody tr th:only-of-type {\n",
       "        vertical-align: middle;\n",
       "    }\n",
       "\n",
       "    .dataframe tbody tr th {\n",
       "        vertical-align: top;\n",
       "    }\n",
       "\n",
       "    .dataframe thead th {\n",
       "        text-align: right;\n",
       "    }\n",
       "</style>\n",
       "<table border=\"1\" class=\"dataframe\">\n",
       "  <thead>\n",
       "    <tr style=\"text-align: right;\">\n",
       "      <th></th>\n",
       "      <th>Title</th>\n",
       "      <th>Publication Year</th>\n",
       "      <th>S</th>\n",
       "    </tr>\n",
       "  </thead>\n",
       "  <tbody>\n",
       "    <tr>\n",
       "      <th>210</th>\n",
       "      <td>Mobile chest radiography service for general p...</td>\n",
       "      <td>1968</td>\n",
       "      <td>1.0</td>\n",
       "    </tr>\n",
       "    <tr>\n",
       "      <th>230</th>\n",
       "      <td>THE EVALUATION AND PREPARATION FOR SURGERY OF ...</td>\n",
       "      <td>1963</td>\n",
       "      <td>1.0</td>\n",
       "    </tr>\n",
       "    <tr>\n",
       "      <th>234</th>\n",
       "      <td>OBSERVATIONS ON THE PROTECTIVE EFFECT OF BCG V...</td>\n",
       "      <td>1964</td>\n",
       "      <td>1.0</td>\n",
       "    </tr>\n",
       "    <tr>\n",
       "      <th>266</th>\n",
       "      <td>COCCIDIOIDOMYCOSIS. LONG-TERM TREATMENT WITH A...</td>\n",
       "      <td>1964</td>\n",
       "      <td>1.0</td>\n",
       "    </tr>\n",
       "    <tr>\n",
       "      <th>274</th>\n",
       "      <td>Immigration in the midlands</td>\n",
       "      <td>1965</td>\n",
       "      <td>1.0</td>\n",
       "    </tr>\n",
       "  </tbody>\n",
       "</table>\n",
       "</div>"
      ],
      "text/plain": [
       "                                                 Title  Publication Year    S\n",
       "210  Mobile chest radiography service for general p...              1968  1.0\n",
       "230  THE EVALUATION AND PREPARATION FOR SURGERY OF ...              1963  1.0\n",
       "234  OBSERVATIONS ON THE PROTECTIVE EFFECT OF BCG V...              1964  1.0\n",
       "266  COCCIDIOIDOMYCOSIS. LONG-TERM TREATMENT WITH A...              1964  1.0\n",
       "274                        Immigration in the midlands              1965  1.0"
      ]
     },
     "execution_count": 138,
     "metadata": {},
     "output_type": "execute_result"
    }
   ],
   "source": [
    "# Condition 1 example\n",
    "new_df[['Title', 'Publication Year', 'S']].query(\"S==1\").head(5)"
   ]
  },
  {
   "cell_type": "code",
   "execution_count": 139,
   "metadata": {
    "scrolled": true
   },
   "outputs": [
    {
     "data": {
      "text/plain": [
       "['Chest X-ray and chest CT findings in patients diagnosed with pulmonary tuberculosis following solid organ transplantation: a systematic review',\n",
       " 'The effect of a tuberculosis chest X-ray image reference set on non-expert reader performance',\n",
       " 'Severe pulmonary tuberculosis complicated with insidious pulmonary thromboembolism: a case report and literature review',\n",
       " 'A Rare Case of a Tuberculosis Patient with Sarcoidosis',\n",
       " 'Diagnostic accuracy of chest radiography for the diagnosis of tuberculosis (TB) and its role in the detection of latent TB infection: a systematic review']"
      ]
     },
     "execution_count": 139,
     "metadata": {},
     "output_type": "execute_result"
    }
   ],
   "source": [
    "# Condition 2 example\n",
    "new_df.query(\"S==2\").Title.tolist()[:5]"
   ]
  },
  {
   "cell_type": "code",
   "execution_count": 140,
   "metadata": {
    "scrolled": true
   },
   "outputs": [
    {
     "data": {
      "text/plain": [
       "['Renal Tuberculosis: The Masquerader',\n",
       " 'Diagnostic potential of interferon-gamma release assay to detect latent tuberculosis infection in kidney transplant recipients',\n",
       " 'Isoniazid- and streptomycin-resistant miliary tuberculosis complicated by intracranial tuberculoma in a Japanese infant',\n",
       " 'Ocular tuberculosis: a clinicopathologic and molecular study',\n",
       " 'Everolimus-induced activation of latent Mycobacterium tuberculosis infection in a patient with metastatic renal cell carcinoma']"
      ]
     },
     "execution_count": 140,
     "metadata": {},
     "output_type": "execute_result"
    }
   ],
   "source": [
    "# Condition 3 example\n",
    "new_df.query(\"S==3\").Title.tolist()[:5]"
   ]
  },
  {
   "cell_type": "code",
   "execution_count": 141,
   "metadata": {},
   "outputs": [
    {
     "data": {
      "text/plain": [
       "['The potential of imaging tools as correlates of infection and disease for new TB vaccine development',\n",
       " '[Tuberculin-BCG therapy in combined treatment of patients with pulmonary tuberculosis]',\n",
       " '[Miliary pulmonary tuberculosis following intravesical BCG-therapy]',\n",
       " 'Tuberculosis in children and BCG vaccination in North Sumatra',\n",
       " '[Pulmonary infiltrates and fever after intravesical instillation of BCG]']"
      ]
     },
     "execution_count": 141,
     "metadata": {},
     "output_type": "execute_result"
    }
   ],
   "source": [
    "# Condition 4 example\n",
    "new_df.query(\"S==4\").Title.tolist()[:5]"
   ]
  },
  {
   "cell_type": "code",
   "execution_count": 142,
   "metadata": {
    "scrolled": false
   },
   "outputs": [
    {
     "data": {
      "text/plain": [
       "['Economic analysis of tuberculosis diagnostic tests in disease control: how can it be modelled and what additional information is needed?',\n",
       " 'The role and performance of chest X-ray for the diagnosis of tuberculosis: a cost-effectiveness analysis in Nairobi, Kenya',\n",
       " 'Tuberculosis screening of travelers to higher-incidence countries: a cost-effectiveness analysis',\n",
       " 'Cost-effectiveness of tuberculosis screening and isoniazid treatment in the TB/HIV in Rio (THRio) Study',\n",
       " 'Cost-effectiveness of polymerase chain reaction versus Ziehl-Neelsen smear microscopy for diagnosis of tuberculosis in Kenya']"
      ]
     },
     "execution_count": 142,
     "metadata": {},
     "output_type": "execute_result"
    }
   ],
   "source": [
    "# Condition 5 example\n",
    "new_df.query(\"S==5\").Title.tolist()[:5]"
   ]
  },
  {
   "cell_type": "code",
   "execution_count": 143,
   "metadata": {
    "scrolled": false
   },
   "outputs": [
    {
     "data": {
      "text/plain": [
       "['Establishment of an aerosol challenge model of tuberculosis in rhesus macaques and an evaluation of endpoints for vaccine testing',\n",
       " 'Re-activation of bovine tuberculosis in a patient treated with infliximab',\n",
       " 'Bovine tuberculosis is more prevalent in cattle owned by farmers with active tuberculosis in central Ethiopia',\n",
       " 'Human bovine tuberculosis - remains in the differential']"
      ]
     },
     "execution_count": 143,
     "metadata": {},
     "output_type": "execute_result"
    }
   ],
   "source": [
    "# Condition 6 example\n",
    "new_df.query(\"S==6\").Title.tolist()"
   ]
  },
  {
   "cell_type": "code",
   "execution_count": 56,
   "metadata": {},
   "outputs": [
    {
     "ename": "PermissionError",
     "evalue": "[Errno 13] Permission denied: 'pubmed_task_0704.csv'",
     "output_type": "error",
     "traceback": [
      "\u001b[1;31m---------------------------------------------------------------------------\u001b[0m",
      "\u001b[1;31mPermissionError\u001b[0m                           Traceback (most recent call last)",
      "\u001b[1;32m<ipython-input-56-1140aea935b4>\u001b[0m in \u001b[0;36m<module>\u001b[1;34m\u001b[0m\n\u001b[0;32m      1\u001b[0m \u001b[1;31m#write as csv\u001b[0m\u001b[1;33m\u001b[0m\u001b[1;33m\u001b[0m\u001b[1;33m\u001b[0m\u001b[0m\n\u001b[1;32m----> 2\u001b[1;33m \u001b[0mnew_df\u001b[0m\u001b[1;33m.\u001b[0m\u001b[0mto_csv\u001b[0m\u001b[1;33m(\u001b[0m\u001b[1;34m'pubmed_task_0704.csv'\u001b[0m\u001b[1;33m,\u001b[0m\u001b[0mindex\u001b[0m\u001b[1;33m=\u001b[0m\u001b[1;32mFalse\u001b[0m\u001b[1;33m)\u001b[0m\u001b[1;33m\u001b[0m\u001b[1;33m\u001b[0m\u001b[0m\n\u001b[0m",
      "\u001b[1;32m~\\anaconda3\\lib\\site-packages\\pandas\\core\\generic.py\u001b[0m in \u001b[0;36mto_csv\u001b[1;34m(self, path_or_buf, sep, na_rep, float_format, columns, header, index, index_label, mode, encoding, compression, quoting, quotechar, line_terminator, chunksize, date_format, doublequote, escapechar, decimal, errors)\u001b[0m\n\u001b[0;32m   3168\u001b[0m             \u001b[0mdecimal\u001b[0m\u001b[1;33m=\u001b[0m\u001b[0mdecimal\u001b[0m\u001b[1;33m,\u001b[0m\u001b[1;33m\u001b[0m\u001b[1;33m\u001b[0m\u001b[0m\n\u001b[0;32m   3169\u001b[0m         )\n\u001b[1;32m-> 3170\u001b[1;33m         \u001b[0mformatter\u001b[0m\u001b[1;33m.\u001b[0m\u001b[0msave\u001b[0m\u001b[1;33m(\u001b[0m\u001b[1;33m)\u001b[0m\u001b[1;33m\u001b[0m\u001b[1;33m\u001b[0m\u001b[0m\n\u001b[0m\u001b[0;32m   3171\u001b[0m \u001b[1;33m\u001b[0m\u001b[0m\n\u001b[0;32m   3172\u001b[0m         \u001b[1;32mif\u001b[0m \u001b[0mpath_or_buf\u001b[0m \u001b[1;32mis\u001b[0m \u001b[1;32mNone\u001b[0m\u001b[1;33m:\u001b[0m\u001b[1;33m\u001b[0m\u001b[1;33m\u001b[0m\u001b[0m\n",
      "\u001b[1;32m~\\anaconda3\\lib\\site-packages\\pandas\\io\\formats\\csvs.py\u001b[0m in \u001b[0;36msave\u001b[1;34m(self)\u001b[0m\n\u001b[0;32m    183\u001b[0m             \u001b[0mclose\u001b[0m \u001b[1;33m=\u001b[0m \u001b[1;32mFalse\u001b[0m\u001b[1;33m\u001b[0m\u001b[1;33m\u001b[0m\u001b[0m\n\u001b[0;32m    184\u001b[0m         \u001b[1;32melse\u001b[0m\u001b[1;33m:\u001b[0m\u001b[1;33m\u001b[0m\u001b[1;33m\u001b[0m\u001b[0m\n\u001b[1;32m--> 185\u001b[1;33m             f, handles = get_handle(\n\u001b[0m\u001b[0;32m    186\u001b[0m                 \u001b[0mself\u001b[0m\u001b[1;33m.\u001b[0m\u001b[0mpath_or_buf\u001b[0m\u001b[1;33m,\u001b[0m\u001b[1;33m\u001b[0m\u001b[1;33m\u001b[0m\u001b[0m\n\u001b[0;32m    187\u001b[0m                 \u001b[0mself\u001b[0m\u001b[1;33m.\u001b[0m\u001b[0mmode\u001b[0m\u001b[1;33m,\u001b[0m\u001b[1;33m\u001b[0m\u001b[1;33m\u001b[0m\u001b[0m\n",
      "\u001b[1;32m~\\anaconda3\\lib\\site-packages\\pandas\\io\\common.py\u001b[0m in \u001b[0;36mget_handle\u001b[1;34m(path_or_buf, mode, encoding, compression, memory_map, is_text, errors)\u001b[0m\n\u001b[0;32m    491\u001b[0m         \u001b[1;32mif\u001b[0m \u001b[0mencoding\u001b[0m\u001b[1;33m:\u001b[0m\u001b[1;33m\u001b[0m\u001b[1;33m\u001b[0m\u001b[0m\n\u001b[0;32m    492\u001b[0m             \u001b[1;31m# Encoding\u001b[0m\u001b[1;33m\u001b[0m\u001b[1;33m\u001b[0m\u001b[1;33m\u001b[0m\u001b[0m\n\u001b[1;32m--> 493\u001b[1;33m             \u001b[0mf\u001b[0m \u001b[1;33m=\u001b[0m \u001b[0mopen\u001b[0m\u001b[1;33m(\u001b[0m\u001b[0mpath_or_buf\u001b[0m\u001b[1;33m,\u001b[0m \u001b[0mmode\u001b[0m\u001b[1;33m,\u001b[0m \u001b[0mencoding\u001b[0m\u001b[1;33m=\u001b[0m\u001b[0mencoding\u001b[0m\u001b[1;33m,\u001b[0m \u001b[0merrors\u001b[0m\u001b[1;33m=\u001b[0m\u001b[0merrors\u001b[0m\u001b[1;33m,\u001b[0m \u001b[0mnewline\u001b[0m\u001b[1;33m=\u001b[0m\u001b[1;34m\"\"\u001b[0m\u001b[1;33m)\u001b[0m\u001b[1;33m\u001b[0m\u001b[1;33m\u001b[0m\u001b[0m\n\u001b[0m\u001b[0;32m    494\u001b[0m         \u001b[1;32melif\u001b[0m \u001b[0mis_text\u001b[0m\u001b[1;33m:\u001b[0m\u001b[1;33m\u001b[0m\u001b[1;33m\u001b[0m\u001b[0m\n\u001b[0;32m    495\u001b[0m             \u001b[1;31m# No explicit encoding\u001b[0m\u001b[1;33m\u001b[0m\u001b[1;33m\u001b[0m\u001b[1;33m\u001b[0m\u001b[0m\n",
      "\u001b[1;31mPermissionError\u001b[0m: [Errno 13] Permission denied: 'pubmed_task_0704.csv'"
     ]
    }
   ],
   "source": [
    "#write as csv\n",
    "new_df.to_csv('pubmed_task_0704.csv',index=False)"
   ]
  }
 ],
 "metadata": {
  "kernelspec": {
   "display_name": "Python 3",
   "language": "python",
   "name": "python3"
  },
  "language_info": {
   "codemirror_mode": {
    "name": "ipython",
    "version": 3
   },
   "file_extension": ".py",
   "mimetype": "text/x-python",
   "name": "python",
   "nbconvert_exporter": "python",
   "pygments_lexer": "ipython3",
   "version": "3.8.5"
  }
 },
 "nbformat": 4,
 "nbformat_minor": 4
}
